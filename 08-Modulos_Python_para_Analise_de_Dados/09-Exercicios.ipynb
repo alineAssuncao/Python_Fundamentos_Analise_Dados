{
 "cells": [
  {
   "cell_type": "markdown",
   "metadata": {},
   "source": [
    "### Exercícios Sobre Módulos Python Para Análise de Dados"
   ]
  },
  {
   "cell_type": "markdown",
   "metadata": {},
   "source": [
    "### Exercício 1"
   ]
  },
  {
   "cell_type": "code",
   "execution_count": 3,
   "metadata": {},
   "outputs": [
    {
     "name": "stdout",
     "output_type": "stream",
     "text": [
      "1.41 ms ± 3.91 µs per loop (mean ± std. dev. of 7 runs, 1000 loops each)\n",
      "184 ms ± 1.22 ms per loop (mean ± std. dev. of 7 runs, 10 loops each)\n"
     ]
    }
   ],
   "source": [
    "# Crie um array NumPy com 1000000 e uma lista com 1000000.\n",
    "# Multiplique cada elemento do array e da lista por 2 e calcule o tempo de execução com cada um dos objetos (use %time).\n",
    "# Qual objeto oferece melhor performance, array NumPy ou lista?\n",
    "\n",
    "import numpy as np\n",
    "\n",
    "arrayNP = np.array(range(0,1000000))\n",
    "lista = list(np.array(range(0,1000000)))\n",
    "\n",
    "%timeit arrayNP * 2\n",
    "\n",
    "%timeit [x*2 for x in lista]"
   ]
  },
  {
   "cell_type": "markdown",
   "metadata": {},
   "source": [
    "### Exercício 2"
   ]
  },
  {
   "cell_type": "code",
   "execution_count": 55,
   "metadata": {},
   "outputs": [],
   "source": [
    "# Exercício 2\n",
    "# Crie um array de 10 elementos\n",
    "# Altere o valores de todos os elementos dos índices 5 a 8 para 0\n",
    "\n",
    "import numpy as np\n",
    "\n",
    "vetor = np.array([15,20,45,82,1,2,56,87,78,10])"
   ]
  },
  {
   "cell_type": "code",
   "execution_count": 60,
   "metadata": {},
   "outputs": [
    {
     "data": {
      "text/plain": [
       "array([15, 20, 45, 82,  1,  0,  0,  0, 78, 10])"
      ]
     },
     "execution_count": 60,
     "metadata": {},
     "output_type": "execute_result"
    }
   ],
   "source": [
    "vetor[5:8] = 0\n",
    "vetor"
   ]
  },
  {
   "cell_type": "markdown",
   "metadata": {},
   "source": [
    "### Exercício 3"
   ]
  },
  {
   "cell_type": "code",
   "execution_count": 2,
   "metadata": {},
   "outputs": [
    {
     "data": {
      "text/plain": [
       "array([[1, 2, 3]])"
      ]
     },
     "execution_count": 2,
     "metadata": {},
     "output_type": "execute_result"
    }
   ],
   "source": [
    "# Crie um array de 3 dimensões e imprima a dimensão 1 \n",
    "\n",
    "import numpy as np\n",
    "\n",
    "array3 = np.array([[1,2,3],[4,5,6],[7,8,9]])\n",
    "array3[[0]]"
   ]
  },
  {
   "cell_type": "markdown",
   "metadata": {},
   "source": [
    "### Exercício 4"
   ]
  },
  {
   "cell_type": "code",
   "execution_count": 38,
   "metadata": {},
   "outputs": [
    {
     "data": {
      "text/plain": [
       "array([[1, 2, 3, 4],\n",
       "       [5, 6, 7, 8],\n",
       "       [0, 0, 0, 0],\n",
       "       [9, 9, 9, 9]])"
      ]
     },
     "execution_count": 38,
     "metadata": {},
     "output_type": "execute_result"
    }
   ],
   "source": [
    "# Crie um array de duas dimensões (matriz).\n",
    "# Imprima os elementos da terceira linha da matriz\n",
    "# Imprima todos os elementos da primeira e segunda linhas e segunda e terceira colunas\n",
    "\n",
    "import numpy as np\n",
    "\n",
    "matriz = np.array([[1,2,3,4],[5,6,7,8],[0,0,0,0],[9,9,9,9]])\n",
    "matriz"
   ]
  },
  {
   "cell_type": "code",
   "execution_count": 34,
   "metadata": {},
   "outputs": [
    {
     "data": {
      "text/plain": [
       "array([0, 0, 0, 0])"
      ]
     },
     "execution_count": 34,
     "metadata": {},
     "output_type": "execute_result"
    }
   ],
   "source": [
    "# Imprima os elementos da terceira linha da matriz\n",
    "matriz[2]"
   ]
  },
  {
   "cell_type": "code",
   "execution_count": 35,
   "metadata": {},
   "outputs": [
    {
     "data": {
      "text/plain": [
       "array([[2, 3],\n",
       "       [6, 7]])"
      ]
     },
     "execution_count": 35,
     "metadata": {},
     "output_type": "execute_result"
    }
   ],
   "source": [
    "# Imprima todos os elementos da primeira e segunda linhas e segunda e terceira colunas\n",
    "matriz[0:2, 1:3]"
   ]
  },
  {
   "cell_type": "markdown",
   "metadata": {},
   "source": [
    "### Exercício 5"
   ]
  },
  {
   "cell_type": "code",
   "execution_count": 10,
   "metadata": {},
   "outputs": [
    {
     "data": {
      "text/plain": [
       "array([[ 0,  1,  2,  3,  4],\n",
       "       [ 5,  6,  7,  8,  9],\n",
       "       [10, 11, 12, 13, 14]])"
      ]
     },
     "execution_count": 10,
     "metadata": {},
     "output_type": "execute_result"
    }
   ],
   "source": [
    "# Calcule a transposta da matriz abaixo\n",
    "arr = np.arange(15).reshape((3, 5))\n",
    "arr"
   ]
  },
  {
   "cell_type": "code",
   "execution_count": 11,
   "metadata": {},
   "outputs": [
    {
     "data": {
      "text/plain": [
       "[(0, 5, 10), (1, 6, 11), (2, 7, 12), (3, 8, 13), (4, 9, 14)]"
      ]
     },
     "execution_count": 11,
     "metadata": {},
     "output_type": "execute_result"
    }
   ],
   "source": [
    "list(zip(*arr))"
   ]
  },
  {
   "cell_type": "code",
   "execution_count": 13,
   "metadata": {},
   "outputs": [
    {
     "data": {
      "text/plain": [
       "array([[ 0,  5, 10],\n",
       "       [ 1,  6, 11],\n",
       "       [ 2,  7, 12],\n",
       "       [ 3,  8, 13],\n",
       "       [ 4,  9, 14]])"
      ]
     },
     "execution_count": 13,
     "metadata": {},
     "output_type": "execute_result"
    }
   ],
   "source": [
    "arr.T"
   ]
  },
  {
   "cell_type": "markdown",
   "metadata": {},
   "source": [
    "### Exercício 6"
   ]
  },
  {
   "cell_type": "code",
   "execution_count": 92,
   "metadata": {},
   "outputs": [],
   "source": [
    "# Considere os 3 arrays abaixo\n",
    "# Retorne o valor do array xarr se o valor for True no array cond. Caso contrário, retorne o valor do array yarr.\n",
    "xarr = np.array([1.1, 1.2, 1.3, 1.4, 1.5])\n",
    "yarr = np.array([2.1, 2.2, 2.3, 2.4, 2.5])\n",
    "cond = np.array([True, False, True, True, False])"
   ]
  },
  {
   "cell_type": "code",
   "execution_count": 95,
   "metadata": {},
   "outputs": [
    {
     "name": "stdout",
     "output_type": "stream",
     "text": [
      "1.1\n",
      "2.2\n",
      "1.3\n",
      "1.4\n",
      "2.5\n"
     ]
    }
   ],
   "source": [
    "for c,x,y in zip(cond,xarr,yarr):\n",
    "    if c == True:\n",
    "        print(x)\n",
    "    else:\n",
    "        print(y)\n",
    "        "
   ]
  },
  {
   "cell_type": "markdown",
   "metadata": {},
   "source": [
    "### Exercício 7"
   ]
  },
  {
   "cell_type": "code",
   "execution_count": 97,
   "metadata": {},
   "outputs": [],
   "source": [
    "# Crie um array A com 10 elementos e salve o array em disco com a extensão npy\n",
    "# Depois carregue o array do disco no array B\n",
    "\n",
    "A = np.array([0,1,2,3,4,5,6,7,8,9])\n",
    "arquivo = open('save.npy', 'w')\n",
    "arquivo.write(str(A))\n",
    "arquivo.close()"
   ]
  },
  {
   "cell_type": "code",
   "execution_count": 102,
   "metadata": {},
   "outputs": [
    {
     "data": {
      "text/plain": [
       "array('[0 1 2 3 4 5 6 7 8 9]', dtype='<U21')"
      ]
     },
     "execution_count": 102,
     "metadata": {},
     "output_type": "execute_result"
    }
   ],
   "source": [
    "arquivo = open('save.npy', 'r')\n",
    "B = arquivo.read()\n",
    "arquivo.close()\n",
    "np.array(B)"
   ]
  },
  {
   "cell_type": "markdown",
   "metadata": {
    "collapsed": true
   },
   "source": [
    "### Exercício 8"
   ]
  },
  {
   "cell_type": "code",
   "execution_count": 14,
   "metadata": {},
   "outputs": [],
   "source": [
    "# Considerando a série abaixo, imprima os valores únicos na série\n",
    "import pandas as pd\n",
    "obj = pd.Series(['c', 'a', 'd', 'a', 'a', 'b', 'b', 'c', 'c', 'a', 'b','h'])"
   ]
  },
  {
   "cell_type": "code",
   "execution_count": 15,
   "metadata": {},
   "outputs": [
    {
     "data": {
      "text/plain": [
       "array(['c', 'a', 'd', 'b', 'h'], dtype=object)"
      ]
     },
     "execution_count": 15,
     "metadata": {},
     "output_type": "execute_result"
    }
   ],
   "source": [
    "obj.unique()"
   ]
  },
  {
   "cell_type": "markdown",
   "metadata": {
    "collapsed": true
   },
   "source": [
    "### Exercício 9"
   ]
  },
  {
   "cell_type": "code",
   "execution_count": 122,
   "metadata": {},
   "outputs": [
    {
     "data": {
      "text/plain": [
       "<Response [200]>"
      ]
     },
     "execution_count": 122,
     "metadata": {},
     "output_type": "execute_result"
    }
   ],
   "source": [
    "# Considerando o trecho de código que conecta em uma url na internet, imprima o dataframe conforme abaixo.\n",
    "import requests\n",
    "url = 'https://api.github.com/repos/pandas-dev/pandas/issues'\n",
    "resp = requests.get(url)\n",
    "resp"
   ]
  },
  {
   "cell_type": "code",
   "execution_count": 123,
   "metadata": {},
   "outputs": [
    {
     "data": {
      "text/html": [
       "<div>\n",
       "<style scoped>\n",
       "    .dataframe tbody tr th:only-of-type {\n",
       "        vertical-align: middle;\n",
       "    }\n",
       "\n",
       "    .dataframe tbody tr th {\n",
       "        vertical-align: top;\n",
       "    }\n",
       "\n",
       "    .dataframe thead th {\n",
       "        text-align: right;\n",
       "    }\n",
       "</style>\n",
       "<table border=\"1\" class=\"dataframe\">\n",
       "  <thead>\n",
       "    <tr style=\"text-align: right;\">\n",
       "      <th></th>\n",
       "      <th>number</th>\n",
       "      <th>title</th>\n",
       "      <th>labels</th>\n",
       "      <th>state</th>\n",
       "    </tr>\n",
       "  </thead>\n",
       "  <tbody>\n",
       "    <tr>\n",
       "      <th>0</th>\n",
       "      <td>25895</td>\n",
       "      <td>Implement helper method to get char* buffer fr...</td>\n",
       "      <td>[]</td>\n",
       "      <td>open</td>\n",
       "    </tr>\n",
       "    <tr>\n",
       "      <th>1</th>\n",
       "      <td>25894</td>\n",
       "      <td>Skipped flaky part of test_time</td>\n",
       "      <td>[{'id': 48070600, 'node_id': 'MDU6TGFiZWw0ODA3...</td>\n",
       "      <td>open</td>\n",
       "    </tr>\n",
       "    <tr>\n",
       "      <th>2</th>\n",
       "      <td>25893</td>\n",
       "      <td>Memory leak with .rolling().max() in pandas 0....</td>\n",
       "      <td>[{'id': 76811, 'node_id': 'MDU6TGFiZWw3NjgxMQ=...</td>\n",
       "      <td>open</td>\n",
       "    </tr>\n",
       "    <tr>\n",
       "      <th>3</th>\n",
       "      <td>25892</td>\n",
       "      <td>GroupBy.apply repeats the first group N times ...</td>\n",
       "      <td>[]</td>\n",
       "      <td>open</td>\n",
       "    </tr>\n",
       "    <tr>\n",
       "      <th>4</th>\n",
       "      <td>25891</td>\n",
       "      <td>MultiIndex level dropped when multiplying two ...</td>\n",
       "      <td>[]</td>\n",
       "      <td>open</td>\n",
       "    </tr>\n",
       "    <tr>\n",
       "      <th>5</th>\n",
       "      <td>25888</td>\n",
       "      <td>Pass the errors and kwargs arguments through t...</td>\n",
       "      <td>[{'id': 1049312478, 'node_id': 'MDU6TGFiZWwxMD...</td>\n",
       "      <td>open</td>\n",
       "    </tr>\n",
       "    <tr>\n",
       "      <th>6</th>\n",
       "      <td>25887</td>\n",
       "      <td>Empty dataframe creation</td>\n",
       "      <td>[{'id': 1049312478, 'node_id': 'MDU6TGFiZWwxMD...</td>\n",
       "      <td>open</td>\n",
       "    </tr>\n",
       "    <tr>\n",
       "      <th>7</th>\n",
       "      <td>25886</td>\n",
       "      <td>CLN: Remove PY2/3 references io directory</td>\n",
       "      <td>[{'id': 49747336, 'node_id': 'MDU6TGFiZWw0OTc0...</td>\n",
       "      <td>open</td>\n",
       "    </tr>\n",
       "    <tr>\n",
       "      <th>8</th>\n",
       "      <td>25884</td>\n",
       "      <td>Initial pandas.typing Module</td>\n",
       "      <td>[{'id': 1280988427, 'node_id': 'MDU6TGFiZWwxMj...</td>\n",
       "      <td>open</td>\n",
       "    </tr>\n",
       "    <tr>\n",
       "      <th>9</th>\n",
       "      <td>25883</td>\n",
       "      <td>Performance regression in 0.24+ on DataFrame B...</td>\n",
       "      <td>[{'id': 1049312478, 'node_id': 'MDU6TGFiZWwxMD...</td>\n",
       "      <td>open</td>\n",
       "    </tr>\n",
       "    <tr>\n",
       "      <th>10</th>\n",
       "      <td>25882</td>\n",
       "      <td>Typing Cleanup - Remove Blacklisted Items</td>\n",
       "      <td>[{'id': 1280988427, 'node_id': 'MDU6TGFiZWwxMj...</td>\n",
       "      <td>open</td>\n",
       "    </tr>\n",
       "    <tr>\n",
       "      <th>11</th>\n",
       "      <td>25881</td>\n",
       "      <td>.at does not work using a categorical index.</td>\n",
       "      <td>[]</td>\n",
       "      <td>open</td>\n",
       "    </tr>\n",
       "    <tr>\n",
       "      <th>12</th>\n",
       "      <td>25880</td>\n",
       "      <td>Int64Dtype conversion seems to casts to double...</td>\n",
       "      <td>[]</td>\n",
       "      <td>open</td>\n",
       "    </tr>\n",
       "    <tr>\n",
       "      <th>13</th>\n",
       "      <td>25877</td>\n",
       "      <td>Unexpected behaviour of groupby.apply with Dat...</td>\n",
       "      <td>[]</td>\n",
       "      <td>open</td>\n",
       "    </tr>\n",
       "    <tr>\n",
       "      <th>14</th>\n",
       "      <td>25875</td>\n",
       "      <td>test_time failure in CI logs</td>\n",
       "      <td>[{'id': 48070600, 'node_id': 'MDU6TGFiZWw0ODA3...</td>\n",
       "      <td>open</td>\n",
       "    </tr>\n",
       "    <tr>\n",
       "      <th>15</th>\n",
       "      <td>25873</td>\n",
       "      <td>CLN: Remove miscellaneous rarely used items fr...</td>\n",
       "      <td>[{'id': 49747336, 'node_id': 'MDU6TGFiZWw0OTc0...</td>\n",
       "      <td>open</td>\n",
       "    </tr>\n",
       "    <tr>\n",
       "      <th>16</th>\n",
       "      <td>25871</td>\n",
       "      <td>groupby aggregation on ordered Categorial with...</td>\n",
       "      <td>[{'id': 40153326, 'node_id': 'MDU6TGFiZWw0MDE1...</td>\n",
       "      <td>open</td>\n",
       "    </tr>\n",
       "    <tr>\n",
       "      <th>17</th>\n",
       "      <td>25863</td>\n",
       "      <td>Read hdf does not close store</td>\n",
       "      <td>[{'id': 76811, 'node_id': 'MDU6TGFiZWw3NjgxMQ=...</td>\n",
       "      <td>open</td>\n",
       "    </tr>\n",
       "    <tr>\n",
       "      <th>18</th>\n",
       "      <td>25860</td>\n",
       "      <td>[BUG] IntervalIndex.get_loc error for decreasi...</td>\n",
       "      <td>[{'id': 76811, 'node_id': 'MDU6TGFiZWw3NjgxMQ=...</td>\n",
       "      <td>open</td>\n",
       "    </tr>\n",
       "    <tr>\n",
       "      <th>19</th>\n",
       "      <td>25858</td>\n",
       "      <td>Styler.applymap(subset=...) breaks promise tha...</td>\n",
       "      <td>[]</td>\n",
       "      <td>open</td>\n",
       "    </tr>\n",
       "    <tr>\n",
       "      <th>20</th>\n",
       "      <td>25857</td>\n",
       "      <td>expanding(min_periods=N).count(), for any N, r...</td>\n",
       "      <td>[{'id': 57296398, 'node_id': 'MDU6TGFiZWw1NzI5...</td>\n",
       "      <td>open</td>\n",
       "    </tr>\n",
       "    <tr>\n",
       "      <th>21</th>\n",
       "      <td>25853</td>\n",
       "      <td>BUG: Fix Timestamp type checks to work with su...</td>\n",
       "      <td>[{'id': 49094459, 'node_id': 'MDU6TGFiZWw0OTA5...</td>\n",
       "      <td>open</td>\n",
       "    </tr>\n",
       "    <tr>\n",
       "      <th>22</th>\n",
       "      <td>25851</td>\n",
       "      <td>Fix PyDateTime_CheckExact checks as proxy for ...</td>\n",
       "      <td>[{'id': 49094459, 'node_id': 'MDU6TGFiZWw0OTA5...</td>\n",
       "      <td>open</td>\n",
       "    </tr>\n",
       "    <tr>\n",
       "      <th>23</th>\n",
       "      <td>25848</td>\n",
       "      <td>read_csv : using day first 23x to 35x slower t...</td>\n",
       "      <td>[{'id': 47229171, 'node_id': 'MDU6TGFiZWw0NzIy...</td>\n",
       "      <td>open</td>\n",
       "    </tr>\n",
       "    <tr>\n",
       "      <th>24</th>\n",
       "      <td>25846</td>\n",
       "      <td>reset_index() error after crosstab</td>\n",
       "      <td>[{'id': 307649777, 'node_id': 'MDU6TGFiZWwzMDc...</td>\n",
       "      <td>open</td>\n",
       "    </tr>\n",
       "    <tr>\n",
       "      <th>25</th>\n",
       "      <td>25843</td>\n",
       "      <td>DataFrame (and Series?) constructor ignores re...</td>\n",
       "      <td>[{'id': 1049312478, 'node_id': 'MDU6TGFiZWwxMD...</td>\n",
       "      <td>open</td>\n",
       "    </tr>\n",
       "    <tr>\n",
       "      <th>26</th>\n",
       "      <td>25839</td>\n",
       "      <td>df.to_hdf5() in table append mode very slow wi...</td>\n",
       "      <td>[]</td>\n",
       "      <td>open</td>\n",
       "    </tr>\n",
       "    <tr>\n",
       "      <th>27</th>\n",
       "      <td>25838</td>\n",
       "      <td>ENH: keep='random' option for .duplicated and ...</td>\n",
       "      <td>[]</td>\n",
       "      <td>open</td>\n",
       "    </tr>\n",
       "    <tr>\n",
       "      <th>28</th>\n",
       "      <td>25837</td>\n",
       "      <td>to_msgpack converts tuples of length 1 to str ...</td>\n",
       "      <td>[]</td>\n",
       "      <td>open</td>\n",
       "    </tr>\n",
       "    <tr>\n",
       "      <th>29</th>\n",
       "      <td>25833</td>\n",
       "      <td>RecursionError with self referencing column in...</td>\n",
       "      <td>[]</td>\n",
       "      <td>open</td>\n",
       "    </tr>\n",
       "  </tbody>\n",
       "</table>\n",
       "</div>"
      ],
      "text/plain": [
       "    number                                              title  \\\n",
       "0    25895  Implement helper method to get char* buffer fr...   \n",
       "1    25894                    Skipped flaky part of test_time   \n",
       "2    25893  Memory leak with .rolling().max() in pandas 0....   \n",
       "3    25892  GroupBy.apply repeats the first group N times ...   \n",
       "4    25891  MultiIndex level dropped when multiplying two ...   \n",
       "5    25888  Pass the errors and kwargs arguments through t...   \n",
       "6    25887                           Empty dataframe creation   \n",
       "7    25886          CLN: Remove PY2/3 references io directory   \n",
       "8    25884                       Initial pandas.typing Module   \n",
       "9    25883  Performance regression in 0.24+ on DataFrame B...   \n",
       "10   25882          Typing Cleanup - Remove Blacklisted Items   \n",
       "11   25881       .at does not work using a categorical index.   \n",
       "12   25880  Int64Dtype conversion seems to casts to double...   \n",
       "13   25877  Unexpected behaviour of groupby.apply with Dat...   \n",
       "14   25875                       test_time failure in CI logs   \n",
       "15   25873  CLN: Remove miscellaneous rarely used items fr...   \n",
       "16   25871  groupby aggregation on ordered Categorial with...   \n",
       "17   25863                      Read hdf does not close store   \n",
       "18   25860  [BUG] IntervalIndex.get_loc error for decreasi...   \n",
       "19   25858  Styler.applymap(subset=...) breaks promise tha...   \n",
       "20   25857  expanding(min_periods=N).count(), for any N, r...   \n",
       "21   25853  BUG: Fix Timestamp type checks to work with su...   \n",
       "22   25851  Fix PyDateTime_CheckExact checks as proxy for ...   \n",
       "23   25848  read_csv : using day first 23x to 35x slower t...   \n",
       "24   25846                 reset_index() error after crosstab   \n",
       "25   25843  DataFrame (and Series?) constructor ignores re...   \n",
       "26   25839  df.to_hdf5() in table append mode very slow wi...   \n",
       "27   25838  ENH: keep='random' option for .duplicated and ...   \n",
       "28   25837  to_msgpack converts tuples of length 1 to str ...   \n",
       "29   25833  RecursionError with self referencing column in...   \n",
       "\n",
       "                                               labels state  \n",
       "0                                                  []  open  \n",
       "1   [{'id': 48070600, 'node_id': 'MDU6TGFiZWw0ODA3...  open  \n",
       "2   [{'id': 76811, 'node_id': 'MDU6TGFiZWw3NjgxMQ=...  open  \n",
       "3                                                  []  open  \n",
       "4                                                  []  open  \n",
       "5   [{'id': 1049312478, 'node_id': 'MDU6TGFiZWwxMD...  open  \n",
       "6   [{'id': 1049312478, 'node_id': 'MDU6TGFiZWwxMD...  open  \n",
       "7   [{'id': 49747336, 'node_id': 'MDU6TGFiZWw0OTc0...  open  \n",
       "8   [{'id': 1280988427, 'node_id': 'MDU6TGFiZWwxMj...  open  \n",
       "9   [{'id': 1049312478, 'node_id': 'MDU6TGFiZWwxMD...  open  \n",
       "10  [{'id': 1280988427, 'node_id': 'MDU6TGFiZWwxMj...  open  \n",
       "11                                                 []  open  \n",
       "12                                                 []  open  \n",
       "13                                                 []  open  \n",
       "14  [{'id': 48070600, 'node_id': 'MDU6TGFiZWw0ODA3...  open  \n",
       "15  [{'id': 49747336, 'node_id': 'MDU6TGFiZWw0OTc0...  open  \n",
       "16  [{'id': 40153326, 'node_id': 'MDU6TGFiZWw0MDE1...  open  \n",
       "17  [{'id': 76811, 'node_id': 'MDU6TGFiZWw3NjgxMQ=...  open  \n",
       "18  [{'id': 76811, 'node_id': 'MDU6TGFiZWw3NjgxMQ=...  open  \n",
       "19                                                 []  open  \n",
       "20  [{'id': 57296398, 'node_id': 'MDU6TGFiZWw1NzI5...  open  \n",
       "21  [{'id': 49094459, 'node_id': 'MDU6TGFiZWw0OTA5...  open  \n",
       "22  [{'id': 49094459, 'node_id': 'MDU6TGFiZWw0OTA5...  open  \n",
       "23  [{'id': 47229171, 'node_id': 'MDU6TGFiZWw0NzIy...  open  \n",
       "24  [{'id': 307649777, 'node_id': 'MDU6TGFiZWwzMDc...  open  \n",
       "25  [{'id': 1049312478, 'node_id': 'MDU6TGFiZWwxMD...  open  \n",
       "26                                                 []  open  \n",
       "27                                                 []  open  \n",
       "28                                                 []  open  \n",
       "29                                                 []  open  "
      ]
     },
     "execution_count": 123,
     "metadata": {},
     "output_type": "execute_result"
    }
   ],
   "source": [
    "import pandas as pd\n",
    "\n",
    "resultado = pd.DataFrame(resp.json(), columns=['number', 'title', 'labels','state'])\n",
    "resultado"
   ]
  },
  {
   "cell_type": "markdown",
   "metadata": {},
   "source": [
    "### Exercício 10"
   ]
  },
  {
   "cell_type": "code",
   "execution_count": 19,
   "metadata": {},
   "outputs": [
    {
     "name": "stdout",
     "output_type": "stream",
     "text": [
      "Tabela criada com sucesso!\n"
     ]
    }
   ],
   "source": [
    "# Crie um banco de dados no SQLite, crie uma tabela, insira registros, \n",
    "# consulte a tabela e retorne os dados em dataframe do Pandas\n",
    "\n",
    "import sqlite3\n",
    "\n",
    "# Criando o Banco de Dados\n",
    "conn = sqlite3.connect('data\\exercicio10.db')\n",
    "\n",
    "# Definindo um cursor\n",
    "cursor = conn.cursor()\n",
    "\n",
    "# Criando uma tabela (schema)\n",
    "cursor.execute(\"\"\"\n",
    "CREATE TABLE Pessoa (\n",
    "            id INTEGER NOT NULL PRIMARY KEY AUTOINCREMENT,\n",
    "            nome TEXT NOT NULL,\n",
    "            idade INTEGER\n",
    ");\n",
    "\"\"\")\n",
    "print(\"Tabela criada com sucesso!\")"
   ]
  },
  {
   "cell_type": "code",
   "execution_count": 21,
   "metadata": {},
   "outputs": [
    {
     "name": "stdout",
     "output_type": "stream",
     "text": [
      "Dados inseridos com sucesso.\n"
     ]
    }
   ],
   "source": [
    "# Inserindo alguns registros\n",
    "lista = [\n",
    "    ('Aline', 36),\n",
    "    ('Stefano', 32),\n",
    "    ('Larissa', 6),\n",
    "    ('Hugo', 4),\n",
    "    ('Evelyn', 13),\n",
    "    ('Cynthia', 35),\n",
    "    ('Esther', 6),\n",
    "    ('Arthur', 8)\n",
    "]\n",
    "\n",
    "\n",
    "cursor.executemany(\"\"\"\n",
    "INSERT INTO Pessoa (nome, idade)\n",
    "VALUES (?, ?)\n",
    "\"\"\", lista)\n",
    "\n",
    "# gravando no banco de dados\n",
    "conn.commit()\n",
    "\n",
    "print('Dados inseridos com sucesso.')"
   ]
  },
  {
   "cell_type": "code",
   "execution_count": 38,
   "metadata": {},
   "outputs": [],
   "source": [
    "# Consultando os dados\n",
    "listaPessoa = cursor.execute(\"\"\"\n",
    "SELECT * FROM Pessoa\n",
    "\"\"\")\n",
    "\n",
    "listaPessoa = list(listaPessoa)"
   ]
  },
  {
   "cell_type": "code",
   "execution_count": 42,
   "metadata": {},
   "outputs": [
    {
     "data": {
      "text/html": [
       "<div>\n",
       "<style scoped>\n",
       "    .dataframe tbody tr th:only-of-type {\n",
       "        vertical-align: middle;\n",
       "    }\n",
       "\n",
       "    .dataframe tbody tr th {\n",
       "        vertical-align: top;\n",
       "    }\n",
       "\n",
       "    .dataframe thead th {\n",
       "        text-align: right;\n",
       "    }\n",
       "</style>\n",
       "<table border=\"1\" class=\"dataframe\">\n",
       "  <thead>\n",
       "    <tr style=\"text-align: right;\">\n",
       "      <th></th>\n",
       "      <th>id</th>\n",
       "      <th>Nome</th>\n",
       "      <th>Idade</th>\n",
       "    </tr>\n",
       "  </thead>\n",
       "  <tbody>\n",
       "    <tr>\n",
       "      <th>0</th>\n",
       "      <td>1</td>\n",
       "      <td>Aline</td>\n",
       "      <td>36</td>\n",
       "    </tr>\n",
       "    <tr>\n",
       "      <th>1</th>\n",
       "      <td>2</td>\n",
       "      <td>Stefano</td>\n",
       "      <td>32</td>\n",
       "    </tr>\n",
       "    <tr>\n",
       "      <th>2</th>\n",
       "      <td>3</td>\n",
       "      <td>Larissa</td>\n",
       "      <td>6</td>\n",
       "    </tr>\n",
       "    <tr>\n",
       "      <th>3</th>\n",
       "      <td>4</td>\n",
       "      <td>Hugo</td>\n",
       "      <td>4</td>\n",
       "    </tr>\n",
       "    <tr>\n",
       "      <th>4</th>\n",
       "      <td>5</td>\n",
       "      <td>Evelyn</td>\n",
       "      <td>13</td>\n",
       "    </tr>\n",
       "    <tr>\n",
       "      <th>5</th>\n",
       "      <td>6</td>\n",
       "      <td>Cynthia</td>\n",
       "      <td>35</td>\n",
       "    </tr>\n",
       "    <tr>\n",
       "      <th>6</th>\n",
       "      <td>7</td>\n",
       "      <td>Esther</td>\n",
       "      <td>6</td>\n",
       "    </tr>\n",
       "    <tr>\n",
       "      <th>7</th>\n",
       "      <td>8</td>\n",
       "      <td>Arthur</td>\n",
       "      <td>8</td>\n",
       "    </tr>\n",
       "  </tbody>\n",
       "</table>\n",
       "</div>"
      ],
      "text/plain": [
       "   id     Nome  Idade\n",
       "0   1    Aline     36\n",
       "1   2  Stefano     32\n",
       "2   3  Larissa      6\n",
       "3   4     Hugo      4\n",
       "4   5   Evelyn     13\n",
       "5   6  Cynthia     35\n",
       "6   7   Esther      6\n",
       "7   8   Arthur      8"
      ]
     },
     "execution_count": 42,
     "metadata": {},
     "output_type": "execute_result"
    }
   ],
   "source": [
    "# retornando os dados com o pandas\n",
    "\n",
    "import pandas as pd\n",
    "pd.DataFrame(listaPessoa, columns=['id', 'Nome', 'Idade'])"
   ]
  },
  {
   "cell_type": "code",
   "execution_count": 45,
   "metadata": {},
   "outputs": [
    {
     "data": {
      "text/html": [
       "<div>\n",
       "<style scoped>\n",
       "    .dataframe tbody tr th:only-of-type {\n",
       "        vertical-align: middle;\n",
       "    }\n",
       "\n",
       "    .dataframe tbody tr th {\n",
       "        vertical-align: top;\n",
       "    }\n",
       "\n",
       "    .dataframe thead th {\n",
       "        text-align: right;\n",
       "    }\n",
       "</style>\n",
       "<table border=\"1\" class=\"dataframe\">\n",
       "  <thead>\n",
       "    <tr style=\"text-align: right;\">\n",
       "      <th></th>\n",
       "      <th>id</th>\n",
       "      <th>Nome</th>\n",
       "      <th>Idade</th>\n",
       "    </tr>\n",
       "  </thead>\n",
       "  <tbody>\n",
       "    <tr>\n",
       "      <th>0</th>\n",
       "      <td>1</td>\n",
       "      <td>Aline</td>\n",
       "      <td>40</td>\n",
       "    </tr>\n",
       "    <tr>\n",
       "      <th>1</th>\n",
       "      <td>2</td>\n",
       "      <td>Stefano</td>\n",
       "      <td>32</td>\n",
       "    </tr>\n",
       "    <tr>\n",
       "      <th>2</th>\n",
       "      <td>3</td>\n",
       "      <td>Larissa</td>\n",
       "      <td>6</td>\n",
       "    </tr>\n",
       "    <tr>\n",
       "      <th>3</th>\n",
       "      <td>4</td>\n",
       "      <td>Hugo</td>\n",
       "      <td>4</td>\n",
       "    </tr>\n",
       "    <tr>\n",
       "      <th>4</th>\n",
       "      <td>5</td>\n",
       "      <td>Evelyn</td>\n",
       "      <td>13</td>\n",
       "    </tr>\n",
       "    <tr>\n",
       "      <th>5</th>\n",
       "      <td>6</td>\n",
       "      <td>Cynthia</td>\n",
       "      <td>35</td>\n",
       "    </tr>\n",
       "    <tr>\n",
       "      <th>6</th>\n",
       "      <td>7</td>\n",
       "      <td>Esther</td>\n",
       "      <td>6</td>\n",
       "    </tr>\n",
       "    <tr>\n",
       "      <th>7</th>\n",
       "      <td>8</td>\n",
       "      <td>Arthur</td>\n",
       "      <td>8</td>\n",
       "    </tr>\n",
       "  </tbody>\n",
       "</table>\n",
       "</div>"
      ],
      "text/plain": [
       "   id     Nome  Idade\n",
       "0   1    Aline     40\n",
       "1   2  Stefano     32\n",
       "2   3  Larissa      6\n",
       "3   4     Hugo      4\n",
       "4   5   Evelyn     13\n",
       "5   6  Cynthia     35\n",
       "6   7   Esther      6\n",
       "7   8   Arthur      8"
      ]
     },
     "execution_count": 45,
     "metadata": {},
     "output_type": "execute_result"
    }
   ],
   "source": [
    "# Alterando os dados\n",
    "id_pessoa = 1\n",
    "nova_idade = 40\n",
    "\n",
    "cursor.execute(\"\"\"\n",
    "    UPDATE Pessoa\n",
    "    SET idade = ?\n",
    "    WHERE id = ?\n",
    "\"\"\", (nova_idade, id_pessoa))\n",
    "\n",
    "conn.commit()\n",
    "\n",
    "# Verificando a informação alterada\n",
    "listaPessoa1 = cursor.execute(\"\"\"\n",
    "SELECT * FROM Pessoa\n",
    "\"\"\")\n",
    "\n",
    "pd.DataFrame(list(listaPessoa1), columns=['id', 'Nome', 'Idade'])"
   ]
  },
  {
   "cell_type": "code",
   "execution_count": 46,
   "metadata": {},
   "outputs": [],
   "source": [
    "# Fechando a conexão\n",
    "conn.close()"
   ]
  },
  {
   "cell_type": "code",
   "execution_count": null,
   "metadata": {},
   "outputs": [],
   "source": []
  }
 ],
 "metadata": {
  "kernelspec": {
   "display_name": "Python 3",
   "language": "python",
   "name": "python3"
  },
  "language_info": {
   "codemirror_mode": {
    "name": "ipython",
    "version": 3
   },
   "file_extension": ".py",
   "mimetype": "text/x-python",
   "name": "python",
   "nbconvert_exporter": "python",
   "pygments_lexer": "ipython3",
   "version": "3.7.3"
  }
 },
 "nbformat": 4,
 "nbformat_minor": 1
}
