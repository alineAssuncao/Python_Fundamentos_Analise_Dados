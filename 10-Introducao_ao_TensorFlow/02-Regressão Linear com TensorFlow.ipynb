{
 "cells": [
  {
   "cell_type": "markdown",
   "metadata": {},
   "source": [
    "# Construindo um Modelo de Regressão Linear com TensorFlow"
   ]
  },
  {
   "cell_type": "markdown",
   "metadata": {},
   "source": [
    "Use como referência o Deep Learning Book: http://www.deeplearningbook.com.br/\n"
   ]
  },
  {
   "cell_type": "code",
   "execution_count": 1,
   "metadata": {},
   "outputs": [
    {
     "name": "stderr",
     "output_type": "stream",
     "text": [
      "/home/aline/anaconda3/lib/python3.7/site-packages/tensorflow/python/framework/dtypes.py:516: FutureWarning: Passing (type, 1) or '1type' as a synonym of type is deprecated; in a future version of numpy, it will be understood as (type, (1,)) / '(1,)type'.\n",
      "  _np_qint8 = np.dtype([(\"qint8\", np.int8, 1)])\n",
      "/home/aline/anaconda3/lib/python3.7/site-packages/tensorflow/python/framework/dtypes.py:517: FutureWarning: Passing (type, 1) or '1type' as a synonym of type is deprecated; in a future version of numpy, it will be understood as (type, (1,)) / '(1,)type'.\n",
      "  _np_quint8 = np.dtype([(\"quint8\", np.uint8, 1)])\n",
      "/home/aline/anaconda3/lib/python3.7/site-packages/tensorflow/python/framework/dtypes.py:518: FutureWarning: Passing (type, 1) or '1type' as a synonym of type is deprecated; in a future version of numpy, it will be understood as (type, (1,)) / '(1,)type'.\n",
      "  _np_qint16 = np.dtype([(\"qint16\", np.int16, 1)])\n",
      "/home/aline/anaconda3/lib/python3.7/site-packages/tensorflow/python/framework/dtypes.py:519: FutureWarning: Passing (type, 1) or '1type' as a synonym of type is deprecated; in a future version of numpy, it will be understood as (type, (1,)) / '(1,)type'.\n",
      "  _np_quint16 = np.dtype([(\"quint16\", np.uint16, 1)])\n",
      "/home/aline/anaconda3/lib/python3.7/site-packages/tensorflow/python/framework/dtypes.py:520: FutureWarning: Passing (type, 1) or '1type' as a synonym of type is deprecated; in a future version of numpy, it will be understood as (type, (1,)) / '(1,)type'.\n",
      "  _np_qint32 = np.dtype([(\"qint32\", np.int32, 1)])\n",
      "/home/aline/anaconda3/lib/python3.7/site-packages/tensorflow/python/framework/dtypes.py:525: FutureWarning: Passing (type, 1) or '1type' as a synonym of type is deprecated; in a future version of numpy, it will be understood as (type, (1,)) / '(1,)type'.\n",
      "  np_resource = np.dtype([(\"resource\", np.ubyte, 1)])\n",
      "/home/aline/anaconda3/lib/python3.7/importlib/_bootstrap.py:219: RuntimeWarning: numpy.ufunc size changed, may indicate binary incompatibility. Expected 216, got 192\n",
      "  return f(*args, **kwds)\n",
      "/home/aline/anaconda3/lib/python3.7/importlib/_bootstrap.py:219: RuntimeWarning: numpy.ufunc size changed, may indicate binary incompatibility. Expected 192 from C header, got 216 from PyObject\n",
      "  return f(*args, **kwds)\n",
      "/home/aline/anaconda3/lib/python3.7/importlib/_bootstrap.py:219: RuntimeWarning: numpy.ufunc size changed, may indicate binary incompatibility. Expected 192 from C header, got 216 from PyObject\n",
      "  return f(*args, **kwds)\n",
      "/home/aline/anaconda3/lib/python3.7/importlib/_bootstrap.py:219: RuntimeWarning: numpy.ufunc size changed, may indicate binary incompatibility. Expected 216, got 192\n",
      "  return f(*args, **kwds)\n",
      "/home/aline/anaconda3/lib/python3.7/site-packages/tensorboard/compat/tensorflow_stub/dtypes.py:541: FutureWarning: Passing (type, 1) or '1type' as a synonym of type is deprecated; in a future version of numpy, it will be understood as (type, (1,)) / '(1,)type'.\n",
      "  _np_qint8 = np.dtype([(\"qint8\", np.int8, 1)])\n",
      "/home/aline/anaconda3/lib/python3.7/site-packages/tensorboard/compat/tensorflow_stub/dtypes.py:542: FutureWarning: Passing (type, 1) or '1type' as a synonym of type is deprecated; in a future version of numpy, it will be understood as (type, (1,)) / '(1,)type'.\n",
      "  _np_quint8 = np.dtype([(\"quint8\", np.uint8, 1)])\n",
      "/home/aline/anaconda3/lib/python3.7/site-packages/tensorboard/compat/tensorflow_stub/dtypes.py:543: FutureWarning: Passing (type, 1) or '1type' as a synonym of type is deprecated; in a future version of numpy, it will be understood as (type, (1,)) / '(1,)type'.\n",
      "  _np_qint16 = np.dtype([(\"qint16\", np.int16, 1)])\n",
      "/home/aline/anaconda3/lib/python3.7/site-packages/tensorboard/compat/tensorflow_stub/dtypes.py:544: FutureWarning: Passing (type, 1) or '1type' as a synonym of type is deprecated; in a future version of numpy, it will be understood as (type, (1,)) / '(1,)type'.\n",
      "  _np_quint16 = np.dtype([(\"quint16\", np.uint16, 1)])\n",
      "/home/aline/anaconda3/lib/python3.7/site-packages/tensorboard/compat/tensorflow_stub/dtypes.py:545: FutureWarning: Passing (type, 1) or '1type' as a synonym of type is deprecated; in a future version of numpy, it will be understood as (type, (1,)) / '(1,)type'.\n",
      "  _np_qint32 = np.dtype([(\"qint32\", np.int32, 1)])\n",
      "/home/aline/anaconda3/lib/python3.7/site-packages/tensorboard/compat/tensorflow_stub/dtypes.py:550: FutureWarning: Passing (type, 1) or '1type' as a synonym of type is deprecated; in a future version of numpy, it will be understood as (type, (1,)) / '(1,)type'.\n",
      "  np_resource = np.dtype([(\"resource\", np.ubyte, 1)])\n"
     ]
    }
   ],
   "source": [
    "import tensorflow as tf\n",
    "import numpy as np\n",
    "import matplotlib.pyplot as plt\n",
    "%matplotlib inline"
   ]
  },
  {
   "cell_type": "markdown",
   "metadata": {},
   "source": [
    "### Definindo os hyperparâmetros do modelo"
   ]
  },
  {
   "cell_type": "code",
   "execution_count": 2,
   "metadata": {},
   "outputs": [],
   "source": [
    "# Hyperparâmetros do modelo\n",
    "learning_rate = 0.01\n",
    "training_epochs = 2000\n",
    "display_step = 200"
   ]
  },
  {
   "cell_type": "markdown",
   "metadata": {},
   "source": [
    "### Definindo os datasets de treino e de teste\n",
    "\n",
    "Considere X como o tamanho de uma casa e y o preço de uma casa¶\n"
   ]
  },
  {
   "cell_type": "code",
   "execution_count": 3,
   "metadata": {},
   "outputs": [],
   "source": [
    "# Dataset de treino\n",
    "train_X = np.asarray([3.3,4.4,5.5,6.71,6.93,4.168,9.779,6.182,7.59,2.167,7.042,10.791,5.313,7.997,5.654,9.27,3.1])\n",
    "train_y = np.asarray([1.7,2.76,2.09,3.19,1.694,1.573,3.366,2.596,2.53,1.221,2.827,3.465,1.65,2.904,2.42,2.94,1.3])\n",
    "n_samples = train_X.shape[0]\n",
    " \n",
    "# Dataset de teste\n",
    "test_X = np.asarray([6.83, 4.668, 8.9, 7.91, 5.7, 8.7, 3.1, 2.1])\n",
    "test_y = np.asarray([1.84, 2.273, 3.2, 2.831, 2.92, 3.24, 1.35, 1.03])"
   ]
  },
  {
   "cell_type": "markdown",
   "metadata": {},
   "source": [
    "### Placeholders e variáveis"
   ]
  },
  {
   "cell_type": "code",
   "execution_count": 4,
   "metadata": {},
   "outputs": [],
   "source": [
    "# Placeholders para as variáveis preditoras (x) e para  variável target (y)\n",
    "X = tf.placeholder(tf.float32)\n",
    "y = tf.placeholder(tf.float32)\n",
    " \n",
    "# Pesos e bias do modelo\n",
    "W = tf.Variable(np.random.randn(), name='weight')\n",
    "b = tf.Variable(np.random.randn(), name='bias')"
   ]
  },
  {
   "cell_type": "markdown",
   "metadata": {},
   "source": [
    "### Construindo o modelo"
   ]
  },
  {
   "cell_type": "code",
   "execution_count": 5,
   "metadata": {},
   "outputs": [],
   "source": [
    "# Construindo o modelo linear\n",
    "# Fórmula do modelo linear: y = W*X + b\n",
    "linear_model = W*X + b\n",
    " \n",
    "# Mean squared error (erro quadrado médio)\n",
    "cost = tf.reduce_sum(tf.square(linear_model - y)) / (2*n_samples)\n",
    " \n",
    "# Otimização com Gradient descent\n",
    "optimizer = tf.train.GradientDescentOptimizer(learning_rate).minimize(cost)"
   ]
  },
  {
   "cell_type": "markdown",
   "metadata": {},
   "source": [
    "### Executando o grafo computacional, treinando e testando o modelo"
   ]
  },
  {
   "cell_type": "code",
   "execution_count": 6,
   "metadata": {},
   "outputs": [
    {
     "name": "stdout",
     "output_type": "stream",
     "text": [
      "Epoch:   200 \t Cost:    0.1098 \t W:0.3545 \t b:0.06985\n",
      "Epoch:   400 \t Cost:   0.09716 \t W:0.3323 \t b:0.2271\n",
      "Epoch:   600 \t Cost:   0.08938 \t W:0.3149 \t b:0.3504\n",
      "Epoch:   800 \t Cost:   0.08459 \t W:0.3012 \t b:0.4471\n",
      "Epoch:  1000 \t Cost:   0.08164 \t W:0.2905 \t b:0.5229\n",
      "Epoch:  1200 \t Cost:   0.07983 \t W:0.2822 \t b:0.5824\n",
      "Epoch:  1400 \t Cost:   0.07871 \t W:0.2756 \t b:0.6291\n",
      "Epoch:  1600 \t Cost:   0.07803 \t W:0.2704 \t b:0.6657\n",
      "Epoch:  1800 \t Cost:    0.0776 \t W:0.2664 \t b:0.6944\n",
      "Epoch:  2000 \t Cost:   0.07734 \t W:0.2632 \t b:0.7169\n",
      "\n",
      "Otimização Concluída!\n",
      "Custo Final de Treinamento: 0.07734394  - W Final: 0.26318583  - b Final: 0.71691054 \n",
      "\n"
     ]
    },
    {
     "data": {
      "image/png": "[encoded data removed]",
      "text/plain": [
       "<Figure size 432x288 with 1 Axes>"
      ]
     },
     "metadata": {
      "needs_background": "light"
     },
     "output_type": "display_data"
    },
    {
     "name": "stdout",
     "output_type": "stream",
     "text": [
      "Custo Final em Teste: 0.07640207\n",
      "Diferença Média Quadrada Absoluta: 0.0009418726\n"
     ]
    },
    {
     "data": {
      "image/png": "[encoded data removed]",
      "text/plain": [
       "<Figure size 432x288 with 1 Axes>"
      ]
     },
     "metadata": {
      "needs_background": "light"
     },
     "output_type": "display_data"
    }
   ],
   "source": [
    "# Definindo a inicialização das variáveis\n",
    "init = tf.global_variables_initializer()\n",
    " \n",
    "# Iniciando a sessão\n",
    "with tf.Session() as sess:\n",
    "    \n",
    "    # Iniciando as variáveis\n",
    "    sess.run(init)\n",
    " \n",
    "    # Treinamento do modelo\n",
    "    for epoch in range(training_epochs):\n",
    " \n",
    "        # Otimização com Gradient Descent\n",
    "        sess.run(optimizer, feed_dict={X: train_X, y: train_y})\n",
    "         \n",
    "        # Display de cada epoch\n",
    "        if (epoch+1) % display_step == 0:\n",
    "            c = sess.run(cost, feed_dict={X: train_X, y: train_y})\n",
    "            print(\"Epoch:{0:6} \\t Cost:{1:10.4} \\t W:{2:6.4} \\t b:{3:6.4}\".format(epoch+1, c, sess.run(W), sess.run(b)))\n",
    "             \n",
    "    # Imprimindo os parâmetros finais do modelo\n",
    "    print(\"\\nOtimização Concluída!\")\n",
    "    training_cost = sess.run(cost, feed_dict={X: train_X, y: train_y})\n",
    "    print(\"Custo Final de Treinamento:\", training_cost, \" - W Final:\", sess.run(W), \" - b Final:\", sess.run(b), '\\n')\n",
    "     \n",
    "    # Visualizando o resultado\n",
    "    plt.plot(train_X, train_y, 'ro', label='Dados Originais')\n",
    "    plt.plot(train_X, sess.run(W) * train_X + sess.run(b), label='Linha de Regressão')\n",
    "    plt.legend()\n",
    "    plt.show()\n",
    " \n",
    "    # Testando o modelo\n",
    "    testing_cost = sess.run(tf.reduce_sum(tf.square(linear_model - y)) / (2 * test_X.shape[0]), \n",
    "                            feed_dict={X: test_X, y: test_y})\n",
    "     \n",
    "    print(\"Custo Final em Teste:\", testing_cost)\n",
    "    print(\"Diferença Média Quadrada Absoluta:\", abs(training_cost - testing_cost))\n",
    " \n",
    "    # Display em Teste\n",
    "    plt.plot(test_X, test_y, 'bo', label='Dados de Teste')\n",
    "    plt.plot(train_X, sess.run(W) * train_X + sess.run(b), label='Linha de Regressão')\n",
    "    plt.legend()\n",
    "    plt.show()\n",
    "    \n",
    "sess.close()"
   ]
  },
  {
   "cell_type": "code",
   "execution_count": null,
   "metadata": {},
   "outputs": [],
   "source": []
  }
 ],
 "metadata": {
  "kernelspec": {
   "display_name": "Python 3",
   "language": "python",
   "name": "python3"
  },
  "language_info": {
   "codemirror_mode": {
    "name": "ipython",
    "version": 3
   },
   "file_extension": ".py",
   "mimetype": "text/x-python",
   "name": "python",
   "nbconvert_exporter": "python",
   "pygments_lexer": "ipython3",
   "version": "3.7.3"
  }
 },
 "nbformat": 4,
 "nbformat_minor": 2
}
