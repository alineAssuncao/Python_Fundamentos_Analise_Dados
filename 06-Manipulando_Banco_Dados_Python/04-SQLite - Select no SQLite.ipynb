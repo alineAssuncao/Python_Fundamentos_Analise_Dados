{
 "cells": [
  {
   "cell_type": "markdown",
   "metadata": {},
   "source": [
    "# Select no SQLite"
   ]
  },
  {
   "cell_type": "code",
   "execution_count": 19,
   "metadata": {},
   "outputs": [],
   "source": [
    "import sqlite3\n",
    "import random\n",
    "import time\n",
    "import datetime"
   ]
  },
  {
   "cell_type": "code",
   "execution_count": 20,
   "metadata": {},
   "outputs": [],
   "source": [
    "# criando conexão\n",
    "conn = sqlite3.connect('dsa.db')\n",
    "\n",
    "# cursor\n",
    "c = conn.cursor()\n",
    "\n",
    "# criar tabela\n",
    "def create_table():\n",
    "    comando_create = 'CREATE TABLE IF NOT EXISTS produtos(id INTEGER PRIMARY KEY AUTOINCREMENT NOT NULL, date TEXT, prod_name TEXT,valor REAL)'\n",
    "    c.execute(comando_create)\n",
    "    \n",
    "def data_insert():\n",
    "    comando_insert = \"INSERT INTO produtos VALUES(002, '02-05-2016', 'teclado', 130)\"\n",
    "    c.execute(comando_insert)\n",
    "    conn.commit()\n",
    "    c.close()\n",
    "    conn.close()\n",
    "    \n",
    "def data_insert_var():\n",
    "    new_date = datetime.datetime.now()\n",
    "    new_prod = 'monitor2'\n",
    "    new_valor = random.randrange(50,100)\n",
    "    c.execute(\"INSERT INTO produtos (date, prod_name, valor) VALUES (?, ?, ?, ?)\", (new_date, new_prod, new_valor))\n",
    "    conn.commit()\n",
    "    \n",
    "def leitura_todos_dados():\n",
    "    c.execute(\"SELECT * FROM produtos\")\n",
    "    for linha in c.fetchall():\n",
    "        print(linha)\n",
    "\n",
    "def leitura_registros():\n",
    "    c.execute(\"SELECT * FROM produtos WHERE valor > 60.0\")\n",
    "    for linha in c.fetchall():\n",
    "        print(linha)\n",
    "    \n",
    "# leitura de coluna especifica\n",
    "def leitura_colunas():\n",
    "    c.execute(\"SELECT * FROM produtos\")\n",
    "    for linha in c.fetchall():\n",
    "        print(linha[3])"
   ]
  },
  {
   "cell_type": "code",
   "execution_count": 21,
   "metadata": {},
   "outputs": [
    {
     "name": "stdout",
     "output_type": "stream",
     "text": [
      "(10, '2018-05-02 14:32:11', 'Teclado', 90.0)\n",
      "(11, '2018-08-23 17:45:32.832539', 'Monitor', 93.0)\n",
      "(12, '2018-08-23 17:45:33.842539', 'Monitor', 92.0)\n",
      "(13, '2018-08-23 17:45:34.858539', 'Monitor', 60.0)\n",
      "(14, '2018-08-23 17:45:35.866539', 'Monitor', 98.0)\n",
      "(15, '2018-08-23 17:45:36.872539', 'Monitor', 58.0)\n",
      "(16, '2018-08-23 17:45:37.880539', 'Monitor', 96.0)\n",
      "(17, '2018-08-23 17:45:38.894539', 'Monitor', 54.0)\n",
      "(18, '2018-08-23 17:45:39.904539', 'Monitor', 91.0)\n",
      "(19, '2018-08-23 17:45:40.919539', 'Monitor', 74.0)\n",
      "(20, '2018-08-23 17:45:41.928539', 'Monitor', 67.0)\n"
     ]
    }
   ],
   "source": [
    "leitura_todos_dados()"
   ]
  },
  {
   "cell_type": "code",
   "execution_count": 22,
   "metadata": {},
   "outputs": [
    {
     "name": "stdout",
     "output_type": "stream",
     "text": [
      "(10, '2018-05-02 14:32:11', 'Teclado', 90.0)\n",
      "(11, '2018-08-23 17:45:32.832539', 'Monitor', 93.0)\n",
      "(12, '2018-08-23 17:45:33.842539', 'Monitor', 92.0)\n",
      "(14, '2018-08-23 17:45:35.866539', 'Monitor', 98.0)\n",
      "(16, '2018-08-23 17:45:37.880539', 'Monitor', 96.0)\n",
      "(18, '2018-08-23 17:45:39.904539', 'Monitor', 91.0)\n",
      "(19, '2018-08-23 17:45:40.919539', 'Monitor', 74.0)\n",
      "(20, '2018-08-23 17:45:41.928539', 'Monitor', 67.0)\n"
     ]
    }
   ],
   "source": [
    "leitura_registros()"
   ]
  },
  {
   "cell_type": "code",
   "execution_count": 23,
   "metadata": {},
   "outputs": [
    {
     "name": "stdout",
     "output_type": "stream",
     "text": [
      "90.0\n",
      "93.0\n",
      "92.0\n",
      "60.0\n",
      "98.0\n",
      "58.0\n",
      "96.0\n",
      "54.0\n",
      "91.0\n",
      "74.0\n",
      "67.0\n"
     ]
    }
   ],
   "source": [
    "leitura_colunas()"
   ]
  },
  {
   "cell_type": "code",
   "execution_count": 24,
   "metadata": {},
   "outputs": [],
   "source": [
    "c.close()\n",
    "conn.close()"
   ]
  },
  {
   "cell_type": "code",
   "execution_count": null,
   "metadata": {},
   "outputs": [],
   "source": []
  }
 ],
 "metadata": {
  "kernelspec": {
   "display_name": "Python 3",
   "language": "python",
   "name": "python3"
  },
  "language_info": {
   "codemirror_mode": {
    "name": "ipython",
    "version": 3
   },
   "file_extension": ".py",
   "mimetype": "text/x-python",
   "name": "python",
   "nbconvert_exporter": "python",
   "pygments_lexer": "ipython3",
   "version": "3.6.5"
  }
 },
 "nbformat": 4,
 "nbformat_minor": 2
}
