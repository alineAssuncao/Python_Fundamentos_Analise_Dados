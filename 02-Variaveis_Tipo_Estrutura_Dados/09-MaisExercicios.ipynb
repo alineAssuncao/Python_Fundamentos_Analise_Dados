{
 "cells": [
  {
   "cell_type": "code",
   "execution_count": 1,
   "metadata": {},
   "outputs": [
    {
     "name": "stdout",
     "output_type": "stream",
     "text": [
      "{1, 2, 3, 4, 5, 6, 7, 8, 9, 10}\n"
     ]
    }
   ],
   "source": [
    "# 1: imprimir os números de 1 a 10\n",
    "lista1 = {1, 2, 3, 4, 5, 6, 7, 8, 9, 10}\n",
    "print(lista1)"
   ]
  },
  {
   "cell_type": "code",
   "execution_count": 2,
   "metadata": {},
   "outputs": [],
   "source": [
    "# 2: lista cm 5 objetos e imprimir\n",
    "lista2 = {\"Aline\", 123, \"hora\", \"now\", 2569784}"
   ]
  },
  {
   "cell_type": "code",
   "execution_count": 3,
   "metadata": {},
   "outputs": [
    {
     "name": "stdout",
     "output_type": "stream",
     "text": [
      "Aline de Jesus\n"
     ]
    }
   ],
   "source": [
    "# 3: duas strings e concatenar em uma terceira\n",
    "str1 = \"Aline\"\n",
    "str2 = \" de Jesus\"\n",
    "str3 = str1 + str2\n",
    "print(str3)"
   ]
  },
  {
   "cell_type": "code",
   "execution_count": 4,
   "metadata": {},
   "outputs": [
    {
     "data": {
      "text/plain": [
       "3"
      ]
     },
     "execution_count": 4,
     "metadata": {},
     "output_type": "execute_result"
    }
   ],
   "source": [
    "# 4: criação de tupla e utilização do count para verificação de qdade\n",
    "tupla1 = (1, 2, 2, 3, 4, 4, 4, 5)\n",
    "tupla1.count(4)"
   ]
  },
  {
   "cell_type": "code",
   "execution_count": 5,
   "metadata": {},
   "outputs": [
    {
     "name": "stdout",
     "output_type": "stream",
     "text": [
      "{'aline': 123, 'maria': 456, 'Cynthia': 789}\n"
     ]
    }
   ],
   "source": [
    "# 5: criação de dicionario\n",
    "dic = {\"aline\": 123, \"maria\": 456, \"Cynthia\": 789}\n",
    "print(dic)"
   ]
  },
  {
   "cell_type": "code",
   "execution_count": 6,
   "metadata": {},
   "outputs": [
    {
     "name": "stdout",
     "output_type": "stream",
     "text": [
      "{'aline': 123, 'maria': 456, 'Cynthia': 789, 'Stefano': 123}\n"
     ]
    }
   ],
   "source": [
    "# 6: adição de novo item a lista\n",
    "dic[\"Stefano\"] = 123\n",
    "print(dic)"
   ]
  },
  {
   "cell_type": "code",
   "execution_count": 7,
   "metadata": {},
   "outputs": [
    {
     "data": {
      "text/plain": [
       "38"
      ]
     },
     "execution_count": 7,
     "metadata": {},
     "output_type": "execute_result"
    }
   ],
   "source": [
    "# 7: criação do arquino nomes.txt\n",
    "fileName = \"data/nomes.txt\"\n",
    "arq2 = open(fileName, \"w\")\n",
    "arq2.write(\"Aline, Cynthia, Maria, Stéfano, Junior\")"
   ]
  },
  {
   "cell_type": "code",
   "execution_count": 8,
   "metadata": {},
   "outputs": [
    {
     "name": "stdout",
     "output_type": "stream",
     "text": [
      "Aline, Cynthia, Maria, Stéfano, Junior\n"
     ]
    }
   ],
   "source": [
    "# 8: abrir o arquivo e imprimi-lo em tela\n",
    "arq2 = open(\"data/nomes.txt\", \"r\")\n",
    "print(arq2.read())"
   ]
  },
  {
   "cell_type": "code",
   "execution_count": 9,
   "metadata": {},
   "outputs": [
    {
     "name": "stdout",
     "output_type": "stream",
     "text": [
      "{}\n"
     ]
    }
   ],
   "source": [
    "# 9: criação de dicionário vazio\n",
    "dic2 = {}\n",
    "print(dic2)"
   ]
  },
  {
   "cell_type": "code",
   "execution_count": 10,
   "metadata": {},
   "outputs": [
    {
     "name": "stdout",
     "output_type": "stream",
     "text": [
      "                      Name           Position Title Department  \\\n",
      "32177   ZYGOWICZ,  PETER J           POLICE OFFICER     POLICE   \n",
      "32178    ZYMANTAS,  MARK E           POLICE OFFICER     POLICE   \n",
      "32179  ZYRKOWSKI,  CARLO E           POLICE OFFICER     POLICE   \n",
      "32180  ZYSKOWSKI,  DARIUSZ  CHIEF DATA BASE ANALYST       DoIT   \n",
      "32181                  NaN                      NaN        NaN   \n",
      "\n",
      "      Employee Annual Salary  \n",
      "32177              $86520.00  \n",
      "32178              $83616.00  \n",
      "32179              $86520.00  \n",
      "32180             $110352.00  \n",
      "32181                    NaN  \n"
     ]
    }
   ],
   "source": [
    "# 10: utilizar o panda e a função tail para ler os ultimos valores\n",
    "import pandas as pd\n",
    "file_name = \"data/salarios.csv\"\n",
    "df = pd.read_csv(file_name)\n",
    "print(df.tail())"
   ]
  },
  {
   "cell_type": "code",
   "execution_count": null,
   "metadata": {
    "collapsed": true
   },
   "outputs": [],
   "source": []
  }
 ],
 "metadata": {
  "kernelspec": {
   "display_name": "Python 3",
   "language": "python",
   "name": "python3"
  },
  "language_info": {
   "codemirror_mode": {
    "name": "ipython",
    "version": 3
   },
   "file_extension": ".py",
   "mimetype": "text/x-python",
   "name": "python",
   "nbconvert_exporter": "python",
   "pygments_lexer": "ipython3",
   "version": "3.6.5"
  }
 },
 "nbformat": 4,
 "nbformat_minor": 1
}
